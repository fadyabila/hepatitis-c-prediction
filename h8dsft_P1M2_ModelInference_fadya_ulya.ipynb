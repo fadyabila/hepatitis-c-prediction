{
  "nbformat": 4,
  "nbformat_minor": 0,
  "metadata": {
    "colab": {
      "provenance": []
    },
    "kernelspec": {
      "name": "python3",
      "display_name": "Python 3"
    },
    "language_info": {
      "name": "python"
    }
  },
  "cells": [
    {
      "cell_type": "markdown",
      "source": [
        "# Milestones 2 Phase 1: Model Inference"
      ],
      "metadata": {
        "id": "AGsWSoZRmjA0"
      }
    },
    {
      "cell_type": "markdown",
      "source": [
        "# Identitas\n",
        "\n",
        "Nama  : **Fadya Ulya Salsabila**\n",
        "\n",
        "Batch : **RMT-018**"
      ],
      "metadata": {
        "id": "azTn6tlkmw7-"
      }
    },
    {
      "cell_type": "markdown",
      "source": [
        "# Import Libraries"
      ],
      "metadata": {
        "id": "fJ6RhVMznQox"
      }
    },
    {
      "cell_type": "code",
      "execution_count": 2,
      "metadata": {
        "id": "cZbu1lo-lg2g"
      },
      "outputs": [],
      "source": [
        "# Import Library\n",
        "\n",
        "import pickle\n",
        "import json\n",
        "import pandas as pd\n",
        "import numpy as np"
      ]
    },
    {
      "cell_type": "markdown",
      "source": [
        "# Load Data"
      ],
      "metadata": {
        "id": "Tim2amFznjYe"
      }
    },
    {
      "cell_type": "code",
      "source": [
        "with open('pipelines.pkl', 'rb') as file_1:\n",
        "  pipelines = pickle.load(file_1)\n",
        "\n",
        "with open('num_columns.txt', 'r') as file_2:\n",
        "  num_columns = json.load(file_2)\n",
        "\n",
        "with open('cat_columns.txt', 'r') as file_3:\n",
        "  cat_columns = json.load(file_3)\n",
        "\n",
        "with open('norm_columns.txt', 'r') as file_4:\n",
        "  norm_columns = json.load(file_4)\n",
        "\n",
        "with open('skew_columns.txt', 'r') as file_5:\n",
        "  skew_columns = json.load(file_5)\n",
        "\n",
        "with open('enc_columns.txt', 'r') as file_6:\n",
        "  enc_columns = json.load(file_6)"
      ],
      "metadata": {
        "id": "KF6zDeFenlbr"
      },
      "execution_count": 4,
      "outputs": []
    },
    {
      "cell_type": "markdown",
      "source": [
        "# Load Inferencing"
      ],
      "metadata": {
        "id": "9hTT5HBpojNw"
      }
    },
    {
      "cell_type": "code",
      "source": [
        "# Create New Data dari data original\n",
        "\n",
        "data_inf = {\n",
        "    'Category': '3=Cirrhosis',\n",
        "    'Age': 45,\n",
        "    'Sex': 'm',\n",
        "    'ALB': 315,\n",
        "    'ALP': 40,\n",
        "    'ALT': 35,\n",
        "    'AST': 140,\n",
        "    'BIL': 25,\n",
        "    'CHE': 19,\n",
        "    'CHOL': 49,\n",
        "    'CREA': 87,\n",
        "    'GGT': 92,\n",
        "    'PROT': 156\n",
        "}\n",
        "\n",
        "data_inf = pd.DataFrame([data_inf])\n",
        "data_inf"
      ],
      "metadata": {
        "colab": {
          "base_uri": "https://localhost:8080/",
          "height": 81
        },
        "id": "7n_jmbN3oleS",
        "outputId": "e055e241-4f19-4182-f67d-82912caea4a2"
      },
      "execution_count": 6,
      "outputs": [
        {
          "output_type": "execute_result",
          "data": {
            "text/plain": [
              "      Category  Age Sex  ALB  ALP  ALT  AST  BIL  CHE  CHOL  CREA  GGT  PROT\n",
              "0  3=Cirrhosis   45   m  315   40   35  140   25   19    49    87   92   156"
            ],
            "text/html": [
              "\n",
              "  <div id=\"df-e08b0238-5fb5-4317-8f5d-b416d2164fb9\">\n",
              "    <div class=\"colab-df-container\">\n",
              "      <div>\n",
              "<style scoped>\n",
              "    .dataframe tbody tr th:only-of-type {\n",
              "        vertical-align: middle;\n",
              "    }\n",
              "\n",
              "    .dataframe tbody tr th {\n",
              "        vertical-align: top;\n",
              "    }\n",
              "\n",
              "    .dataframe thead th {\n",
              "        text-align: right;\n",
              "    }\n",
              "</style>\n",
              "<table border=\"1\" class=\"dataframe\">\n",
              "  <thead>\n",
              "    <tr style=\"text-align: right;\">\n",
              "      <th></th>\n",
              "      <th>Category</th>\n",
              "      <th>Age</th>\n",
              "      <th>Sex</th>\n",
              "      <th>ALB</th>\n",
              "      <th>ALP</th>\n",
              "      <th>ALT</th>\n",
              "      <th>AST</th>\n",
              "      <th>BIL</th>\n",
              "      <th>CHE</th>\n",
              "      <th>CHOL</th>\n",
              "      <th>CREA</th>\n",
              "      <th>GGT</th>\n",
              "      <th>PROT</th>\n",
              "    </tr>\n",
              "  </thead>\n",
              "  <tbody>\n",
              "    <tr>\n",
              "      <th>0</th>\n",
              "      <td>3=Cirrhosis</td>\n",
              "      <td>45</td>\n",
              "      <td>m</td>\n",
              "      <td>315</td>\n",
              "      <td>40</td>\n",
              "      <td>35</td>\n",
              "      <td>140</td>\n",
              "      <td>25</td>\n",
              "      <td>19</td>\n",
              "      <td>49</td>\n",
              "      <td>87</td>\n",
              "      <td>92</td>\n",
              "      <td>156</td>\n",
              "    </tr>\n",
              "  </tbody>\n",
              "</table>\n",
              "</div>\n",
              "      <button class=\"colab-df-convert\" onclick=\"convertToInteractive('df-e08b0238-5fb5-4317-8f5d-b416d2164fb9')\"\n",
              "              title=\"Convert this dataframe to an interactive table.\"\n",
              "              style=\"display:none;\">\n",
              "        \n",
              "  <svg xmlns=\"http://www.w3.org/2000/svg\" height=\"24px\"viewBox=\"0 0 24 24\"\n",
              "       width=\"24px\">\n",
              "    <path d=\"M0 0h24v24H0V0z\" fill=\"none\"/>\n",
              "    <path d=\"M18.56 5.44l.94 2.06.94-2.06 2.06-.94-2.06-.94-.94-2.06-.94 2.06-2.06.94zm-11 1L8.5 8.5l.94-2.06 2.06-.94-2.06-.94L8.5 2.5l-.94 2.06-2.06.94zm10 10l.94 2.06.94-2.06 2.06-.94-2.06-.94-.94-2.06-.94 2.06-2.06.94z\"/><path d=\"M17.41 7.96l-1.37-1.37c-.4-.4-.92-.59-1.43-.59-.52 0-1.04.2-1.43.59L10.3 9.45l-7.72 7.72c-.78.78-.78 2.05 0 2.83L4 21.41c.39.39.9.59 1.41.59.51 0 1.02-.2 1.41-.59l7.78-7.78 2.81-2.81c.8-.78.8-2.07 0-2.86zM5.41 20L4 18.59l7.72-7.72 1.47 1.35L5.41 20z\"/>\n",
              "  </svg>\n",
              "      </button>\n",
              "      \n",
              "  <style>\n",
              "    .colab-df-container {\n",
              "      display:flex;\n",
              "      flex-wrap:wrap;\n",
              "      gap: 12px;\n",
              "    }\n",
              "\n",
              "    .colab-df-convert {\n",
              "      background-color: #E8F0FE;\n",
              "      border: none;\n",
              "      border-radius: 50%;\n",
              "      cursor: pointer;\n",
              "      display: none;\n",
              "      fill: #1967D2;\n",
              "      height: 32px;\n",
              "      padding: 0 0 0 0;\n",
              "      width: 32px;\n",
              "    }\n",
              "\n",
              "    .colab-df-convert:hover {\n",
              "      background-color: #E2EBFA;\n",
              "      box-shadow: 0px 1px 2px rgba(60, 64, 67, 0.3), 0px 1px 3px 1px rgba(60, 64, 67, 0.15);\n",
              "      fill: #174EA6;\n",
              "    }\n",
              "\n",
              "    [theme=dark] .colab-df-convert {\n",
              "      background-color: #3B4455;\n",
              "      fill: #D2E3FC;\n",
              "    }\n",
              "\n",
              "    [theme=dark] .colab-df-convert:hover {\n",
              "      background-color: #434B5C;\n",
              "      box-shadow: 0px 1px 3px 1px rgba(0, 0, 0, 0.15);\n",
              "      filter: drop-shadow(0px 1px 2px rgba(0, 0, 0, 0.3));\n",
              "      fill: #FFFFFF;\n",
              "    }\n",
              "  </style>\n",
              "\n",
              "      <script>\n",
              "        const buttonEl =\n",
              "          document.querySelector('#df-e08b0238-5fb5-4317-8f5d-b416d2164fb9 button.colab-df-convert');\n",
              "        buttonEl.style.display =\n",
              "          google.colab.kernel.accessAllowed ? 'block' : 'none';\n",
              "\n",
              "        async function convertToInteractive(key) {\n",
              "          const element = document.querySelector('#df-e08b0238-5fb5-4317-8f5d-b416d2164fb9');\n",
              "          const dataTable =\n",
              "            await google.colab.kernel.invokeFunction('convertToInteractive',\n",
              "                                                     [key], {});\n",
              "          if (!dataTable) return;\n",
              "\n",
              "          const docLinkHtml = 'Like what you see? Visit the ' +\n",
              "            '<a target=\"_blank\" href=https://colab.research.google.com/notebooks/data_table.ipynb>data table notebook</a>'\n",
              "            + ' to learn more about interactive tables.';\n",
              "          element.innerHTML = '';\n",
              "          dataTable['output_type'] = 'display_data';\n",
              "          await google.colab.output.renderOutput(dataTable, element);\n",
              "          const docLink = document.createElement('div');\n",
              "          docLink.innerHTML = docLinkHtml;\n",
              "          element.appendChild(docLink);\n",
              "        }\n",
              "      </script>\n",
              "    </div>\n",
              "  </div>\n",
              "  "
            ]
          },
          "metadata": {},
          "execution_count": 6
        }
      ]
    },
    {
      "cell_type": "code",
      "source": [
        "# Predict menggunakan best model Logistic Regression\n",
        "\n",
        "y_pred_inf = pipelines.predict(data_inf)\n",
        "y_pred_inf"
      ],
      "metadata": {
        "colab": {
          "base_uri": "https://localhost:8080/"
        },
        "id": "j_oNcYDIorqR",
        "outputId": "76468a60-081d-4777-c4be-43404bb14143"
      },
      "execution_count": 7,
      "outputs": [
        {
          "output_type": "execute_result",
          "data": {
            "text/plain": [
              "array([2])"
            ]
          },
          "metadata": {},
          "execution_count": 7
        }
      ]
    },
    {
      "cell_type": "markdown",
      "source": [
        "Berdasarkan Inferencing di atas, dengan memasukkan dummy value pada features, pasien laki-laki berusia 45 tahun dengan ciri-ciri di atas, diprediksi akan mengalami `Hepatitis` yang ditunjukkan dengan label `2`, karena masih memiliki kadar albumin dan protein yang tinggi. "
      ],
      "metadata": {
        "id": "3viwivHlqpPy"
      }
    }
  ]
}